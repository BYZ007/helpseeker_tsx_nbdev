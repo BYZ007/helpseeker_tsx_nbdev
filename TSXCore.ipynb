{
 "cells": [
  {
   "cell_type": "code",
   "execution_count": 1,
   "metadata": {},
   "outputs": [],
   "source": [
    "# default_exp TSXCore"
   ]
  },
  {
   "cell_type": "markdown",
   "metadata": {},
   "source": [
    "# TSXCore\n",
    "\n",
    "> nbdev module for preprocessing TSX data"
   ]
  },
  {
   "cell_type": "code",
   "execution_count": 2,
   "metadata": {},
   "outputs": [],
   "source": [
    "#hide\n",
    "from nbdev.showdoc import *\n",
    "from nbdev import *"
   ]
  },
  {
   "cell_type": "markdown",
   "metadata": {},
   "source": [
    "# Config Script"
   ]
  },
  {
   "cell_type": "code",
   "execution_count": 3,
   "metadata": {},
   "outputs": [],
   "source": [
    "# export config\n",
    "from pathlib import Path\n",
    "import json\n",
    "\n",
    "config_file_path = Path(\"config.json\")\n",
    "f = open(config_file_path,\"r\")\n",
    "config = json.load(f)"
   ]
  },
  {
   "cell_type": "code",
   "execution_count": 4,
   "metadata": {},
   "outputs": [],
   "source": [
    "tsx_data_path = config['tsx_data_path']"
   ]
  },
  {
   "cell_type": "markdown",
   "metadata": {},
   "source": [
    "# TSX Preprocessing"
   ]
  },
  {
   "cell_type": "code",
   "execution_count": 5,
   "metadata": {},
   "outputs": [],
   "source": [
    "# export TSX_preprocessing\n",
    "import pandas as pd\n",
    "import numpy as np\n",
    "import warnings\n",
    "\n",
    "warnings.filterwarnings(\"ignore\")\n",
    "\n",
    "def _get_tsx_features(data):\n",
    "    tsx_features = np.array([(c if ('TSX' in c) else None) for c in data.columns.tolist()])\n",
    "    tsx_features = tsx_features[tsx_features!=None].tolist()\n",
    "    return tsx_features\n",
    "\n",
    "\n",
    "def _get_tsx_year(t,df):\n",
    "    cols = _tsx_cols_by_type(t,df)\n",
    "    df[f\"{t}_TSX_Investment_Previous_Year\"]=df[cols].sum(axis = 1)\n",
    "    df.drop(columns = cols,inplace = True)\n",
    "    return df\n",
    "\n",
    "\n",
    "def _tsx_cols_by_type(t,df,summary_stats = False):\n",
    "    cols = np.array([(c if (t in c) else None)  for c in df.columns])\n",
    "    cols = cols[cols!=None].tolist()\n",
    "    if not summary_stats:            \n",
    "        cols = list(set(cols)-set([f'TSX_{type}_Price_MedianofMedian_Investing',\n",
    "                                   f'TSX_{type}_Price_Max_Investing',\n",
    "                                   f'TSX_{type}_Price_Min_Investing']))\n",
    "    return cols\n",
    "\n",
    "\n",
    "def create_tsx_features(tsx_features_dir):\n",
    "    df = pd.read_csv(tsx_features_dir)\n",
    "    tsx_features = _get_tsx_features(df)\n",
    "    tsx_types = list(set([t.split('_')[1] for t in tsx_features]))\n",
    "    \n",
    "    for t in tsx_types:\n",
    "        df = _get_tsx_year(t,df)\n",
    "        \n",
    "    return df"
   ]
  },
  {
   "cell_type": "markdown",
   "metadata": {},
   "source": [
    "Testing preprocessing"
   ]
  },
  {
   "cell_type": "code",
   "execution_count": 6,
   "metadata": {},
   "outputs": [],
   "source": [
    "# hide\n",
    "tsx = create_tsx_features(tsx_data_path)"
   ]
  },
  {
   "cell_type": "code",
   "execution_count": 7,
   "metadata": {},
   "outputs": [
    {
     "data": {
      "text/html": [
       "<div>\n",
       "<style scoped>\n",
       "    .dataframe tbody tr th:only-of-type {\n",
       "        vertical-align: middle;\n",
       "    }\n",
       "\n",
       "    .dataframe tbody tr th {\n",
       "        vertical-align: top;\n",
       "    }\n",
       "\n",
       "    .dataframe thead th {\n",
       "        text-align: right;\n",
       "    }\n",
       "</style>\n",
       "<table border=\"1\" class=\"dataframe\">\n",
       "  <thead>\n",
       "    <tr style=\"text-align: right;\">\n",
       "      <th></th>\n",
       "      <th>Year</th>\n",
       "      <th>Financials_TSX_Investment_Previous_Year</th>\n",
       "      <th>Utilities_TSX_Investment_Previous_Year</th>\n",
       "      <th>Industrials_TSX_Investment_Previous_Year</th>\n",
       "      <th>Health_TSX_Investment_Previous_Year</th>\n",
       "      <th>Information_TSX_Investment_Previous_Year</th>\n",
       "      <th>Energy_TSX_Investment_Previous_Year</th>\n",
       "      <th>Composite_TSX_Investment_Previous_Year</th>\n",
       "    </tr>\n",
       "  </thead>\n",
       "  <tbody>\n",
       "    <tr>\n",
       "      <th>0</th>\n",
       "      <td>2000</td>\n",
       "      <td>0.0000</td>\n",
       "      <td>0.0000</td>\n",
       "      <td>0.0000</td>\n",
       "      <td>0.0000</td>\n",
       "      <td>0.0000</td>\n",
       "      <td>1335.0150</td>\n",
       "      <td>145483.1430</td>\n",
       "    </tr>\n",
       "    <tr>\n",
       "      <th>1</th>\n",
       "      <td>2001</td>\n",
       "      <td>1399.8725</td>\n",
       "      <td>1637.9950</td>\n",
       "      <td>1141.4175</td>\n",
       "      <td>1012.5475</td>\n",
       "      <td>492.9950</td>\n",
       "      <td>1633.5000</td>\n",
       "      <td>116875.2053</td>\n",
       "    </tr>\n",
       "    <tr>\n",
       "      <th>2</th>\n",
       "      <td>2002</td>\n",
       "      <td>1616.7825</td>\n",
       "      <td>2026.6475</td>\n",
       "      <td>1195.0150</td>\n",
       "      <td>1001.7875</td>\n",
       "      <td>343.2200</td>\n",
       "      <td>1832.5325</td>\n",
       "      <td>105428.7653</td>\n",
       "    </tr>\n",
       "    <tr>\n",
       "      <th>3</th>\n",
       "      <td>2003</td>\n",
       "      <td>1762.5225</td>\n",
       "      <td>2087.7975</td>\n",
       "      <td>989.3550</td>\n",
       "      <td>969.7550</td>\n",
       "      <td>308.6825</td>\n",
       "      <td>2001.6475</td>\n",
       "      <td>107012.4503</td>\n",
       "    </tr>\n",
       "    <tr>\n",
       "      <th>4</th>\n",
       "      <td>2004</td>\n",
       "      <td>2142.8800</td>\n",
       "      <td>2238.7550</td>\n",
       "      <td>1095.5850</td>\n",
       "      <td>951.2025</td>\n",
       "      <td>477.3600</td>\n",
       "      <td>2623.3600</td>\n",
       "      <td>129051.1480</td>\n",
       "    </tr>\n",
       "  </tbody>\n",
       "</table>\n",
       "</div>"
      ],
      "text/plain": [
       "   Year  Financials_TSX_Investment_Previous_Year  \\\n",
       "0  2000                                   0.0000   \n",
       "1  2001                                1399.8725   \n",
       "2  2002                                1616.7825   \n",
       "3  2003                                1762.5225   \n",
       "4  2004                                2142.8800   \n",
       "\n",
       "   Utilities_TSX_Investment_Previous_Year  \\\n",
       "0                                  0.0000   \n",
       "1                               1637.9950   \n",
       "2                               2026.6475   \n",
       "3                               2087.7975   \n",
       "4                               2238.7550   \n",
       "\n",
       "   Industrials_TSX_Investment_Previous_Year  \\\n",
       "0                                    0.0000   \n",
       "1                                 1141.4175   \n",
       "2                                 1195.0150   \n",
       "3                                  989.3550   \n",
       "4                                 1095.5850   \n",
       "\n",
       "   Health_TSX_Investment_Previous_Year  \\\n",
       "0                               0.0000   \n",
       "1                            1012.5475   \n",
       "2                            1001.7875   \n",
       "3                             969.7550   \n",
       "4                             951.2025   \n",
       "\n",
       "   Information_TSX_Investment_Previous_Year  \\\n",
       "0                                    0.0000   \n",
       "1                                  492.9950   \n",
       "2                                  343.2200   \n",
       "3                                  308.6825   \n",
       "4                                  477.3600   \n",
       "\n",
       "   Energy_TSX_Investment_Previous_Year  Composite_TSX_Investment_Previous_Year  \n",
       "0                            1335.0150                             145483.1430  \n",
       "1                            1633.5000                             116875.2053  \n",
       "2                            1832.5325                             105428.7653  \n",
       "3                            2001.6475                             107012.4503  \n",
       "4                            2623.3600                             129051.1480  "
      ]
     },
     "execution_count": 7,
     "metadata": {},
     "output_type": "execute_result"
    }
   ],
   "source": [
    "# hide\n",
    "tsx.head()"
   ]
  },
  {
   "cell_type": "code",
   "execution_count": 8,
   "metadata": {},
   "outputs": [
    {
     "name": "stdout",
     "output_type": "stream",
     "text": [
      "Converted config.ipynb.\n",
      "Converted index.ipynb.\n",
      "Converted TSX_preprocessing.ipynb.\n",
      "Converted TSXCore.ipynb.\n"
     ]
    }
   ],
   "source": [
    "#hide\n",
    "from nbdev.export import notebook2script\n",
    "notebook2script()"
   ]
  },
  {
   "cell_type": "code",
   "execution_count": null,
   "metadata": {},
   "outputs": [],
   "source": []
  }
 ],
 "metadata": {
  "kernelspec": {
   "display_name": "Python 3",
   "language": "python",
   "name": "python3"
  },
  "language_info": {
   "codemirror_mode": {
    "name": "ipython",
    "version": 3
   },
   "file_extension": ".py",
   "mimetype": "text/x-python",
   "name": "python",
   "nbconvert_exporter": "python",
   "pygments_lexer": "ipython3",
   "version": "3.8.5"
  }
 },
 "nbformat": 4,
 "nbformat_minor": 2
}
